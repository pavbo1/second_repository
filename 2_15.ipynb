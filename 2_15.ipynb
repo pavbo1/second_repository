{
  "cells": [
    {
      "cell_type": "markdown",
      "metadata": {
        "id": "view-in-github",
        "colab_type": "text"
      },
      "source": [
        "<a href=\"https://colab.research.google.com/github/pavbo1/second_repository/blob/main/2_15.ipynb\" target=\"_parent\"><img src=\"https://colab.research.google.com/assets/colab-badge.svg\" alt=\"Open In Colab\"/></a>"
      ]
    },
    {
      "cell_type": "code",
      "execution_count": null,
      "metadata": {
        "colab": {
          "background_save": true
        },
        "id": "yBwr1zGgbL46"
      },
      "outputs": [],
      "source": [
        "answers = {\n",
        "    'Да': 'Вы успешно подписались на рассылку новостей о продукте.',\n",
        "    'Нет': 'Вы отказались от подписки на рассылку новостей о продукте.'\n",
        "}\n",
        "a=input()\n",
        "if a in answers:\n",
        "    print(answers.get(a))\n",
        "else:\n",
        "    print('Не понял Вас, попробуйте ещё раз.')"
      ]
    },
    {
      "cell_type": "code",
      "source": [],
      "metadata": {
        "id": "SiXrO-e8ApFk"
      },
      "execution_count": null,
      "outputs": []
    }
  ],
  "metadata": {
    "colab": {
      "provenance": [],
      "authorship_tag": "ABX9TyMxiLvhWvYJUYs2a/4akEzV",
      "include_colab_link": true
    },
    "kernelspec": {
      "display_name": "Python 3",
      "name": "python3"
    },
    "language_info": {
      "name": "python"
    }
  },
  "nbformat": 4,
  "nbformat_minor": 0
}